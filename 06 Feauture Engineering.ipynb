{
 "cells": [
  {
   "cell_type": "code",
   "execution_count": 16,
   "metadata": {},
   "outputs": [],
   "source": [
    "import numpy as np \n",
    "import pandas as pd\n",
    "import re"
   ]
  },
  {
   "cell_type": "code",
   "execution_count": 17,
   "metadata": {},
   "outputs": [],
   "source": [
    "pd.set_option('display.max_colwidth',None)\n",
    "pd.set_option('display.max_rows',None)\n",
    "pd.set_option('display.max_columns',None)\n"
   ]
  },
  {
   "cell_type": "code",
   "execution_count": 18,
   "metadata": {},
   "outputs": [],
   "source": [
    "df = pd.read_csv(r'A:\\Work Docs\\Data Analyst work\\Campus X\\10 Streamlit\\Capstone\\gurgaon_properties_cleaned_v1.csv')"
   ]
  },
  {
   "cell_type": "code",
   "execution_count": 19,
   "metadata": {},
   "outputs": [
    {
     "data": {
      "text/html": [
       "<div>\n",
       "<style scoped>\n",
       "    .dataframe tbody tr th:only-of-type {\n",
       "        vertical-align: middle;\n",
       "    }\n",
       "\n",
       "    .dataframe tbody tr th {\n",
       "        vertical-align: top;\n",
       "    }\n",
       "\n",
       "    .dataframe thead th {\n",
       "        text-align: right;\n",
       "    }\n",
       "</style>\n",
       "<table border=\"1\" class=\"dataframe\">\n",
       "  <thead>\n",
       "    <tr style=\"text-align: right;\">\n",
       "      <th></th>\n",
       "      <th>property_type</th>\n",
       "      <th>society</th>\n",
       "      <th>sector</th>\n",
       "      <th>price</th>\n",
       "      <th>price_per_sqft</th>\n",
       "      <th>area</th>\n",
       "      <th>areaWithType</th>\n",
       "      <th>bedRoom</th>\n",
       "      <th>bathroom</th>\n",
       "      <th>balcony</th>\n",
       "      <th>additionalRoom</th>\n",
       "      <th>floorNum</th>\n",
       "      <th>facing</th>\n",
       "      <th>agePossession</th>\n",
       "      <th>nearbyLocations</th>\n",
       "      <th>furnishDetails</th>\n",
       "      <th>features</th>\n",
       "    </tr>\n",
       "  </thead>\n",
       "  <tbody>\n",
       "    <tr>\n",
       "      <th>0</th>\n",
       "      <td>flat</td>\n",
       "      <td>signature global park 4</td>\n",
       "      <td>sector 36</td>\n",
       "      <td>0.82</td>\n",
       "      <td>7585.0</td>\n",
       "      <td>1081.0</td>\n",
       "      <td>Super Built up area 1081(100.43 sq.m.)Carpet area: 650 sq.ft. (60.39 sq.m.)</td>\n",
       "      <td>3</td>\n",
       "      <td>2</td>\n",
       "      <td>2</td>\n",
       "      <td>not available</td>\n",
       "      <td>2.0</td>\n",
       "      <td>NaN</td>\n",
       "      <td>0 to 1 Year Old</td>\n",
       "      <td>['Sector 55-56 Metro Station', 'The Leaf Mall Sohna', 'Omaxe Gurgaon Mall', 'Badshahpur Sohna Rd Hwy', 'Vidya Niketan School', 'KIIT College of Engg', 'Scottish High International School', 'Rawal Institutions', 'Park Hospital', 'Indira Gandhi Intl Airport', 'Spaze Business Park', 'DLF Cyber City']</td>\n",
       "      <td>NaN</td>\n",
       "      <td>['Lift(s)', 'Park']</td>\n",
       "    </tr>\n",
       "  </tbody>\n",
       "</table>\n",
       "</div>"
      ],
      "text/plain": [
       "  property_type                  society     sector  price  price_per_sqft  \\\n",
       "0          flat  signature global park 4  sector 36   0.82          7585.0   \n",
       "\n",
       "     area  \\\n",
       "0  1081.0   \n",
       "\n",
       "                                                                  areaWithType  \\\n",
       "0  Super Built up area 1081(100.43 sq.m.)Carpet area: 650 sq.ft. (60.39 sq.m.)   \n",
       "\n",
       "   bedRoom  bathroom balcony additionalRoom  floorNum facing    agePossession  \\\n",
       "0        3         2       2  not available       2.0    NaN  0 to 1 Year Old   \n",
       "\n",
       "                                                                                                                                                                                                                                                                                              nearbyLocations  \\\n",
       "0  ['Sector 55-56 Metro Station', 'The Leaf Mall Sohna', 'Omaxe Gurgaon Mall', 'Badshahpur Sohna Rd Hwy', 'Vidya Niketan School', 'KIIT College of Engg', 'Scottish High International School', 'Rawal Institutions', 'Park Hospital', 'Indira Gandhi Intl Airport', 'Spaze Business Park', 'DLF Cyber City']   \n",
       "\n",
       "  furnishDetails             features  \n",
       "0            NaN  ['Lift(s)', 'Park']  "
      ]
     },
     "execution_count": 19,
     "metadata": {},
     "output_type": "execute_result"
    }
   ],
   "source": [
    "df.head(1)"
   ]
  },
  {
   "cell_type": "markdown",
   "metadata": {},
   "source": [
    "Focus here is on columns->\n",
    "areaWithType,\n",
    "additionaRoom,\n",
    "agePossesion,\n",
    "furnishedDetails,\n",
    "features"
   ]
  },
  {
   "cell_type": "code",
   "execution_count": 20,
   "metadata": {},
   "outputs": [
    {
     "data": {
      "text/html": [
       "<div>\n",
       "<style scoped>\n",
       "    .dataframe tbody tr th:only-of-type {\n",
       "        vertical-align: middle;\n",
       "    }\n",
       "\n",
       "    .dataframe tbody tr th {\n",
       "        vertical-align: top;\n",
       "    }\n",
       "\n",
       "    .dataframe thead th {\n",
       "        text-align: right;\n",
       "    }\n",
       "</style>\n",
       "<table border=\"1\" class=\"dataframe\">\n",
       "  <thead>\n",
       "    <tr style=\"text-align: right;\">\n",
       "      <th></th>\n",
       "      <th>price</th>\n",
       "      <th>area</th>\n",
       "      <th>areaWithType</th>\n",
       "    </tr>\n",
       "  </thead>\n",
       "  <tbody>\n",
       "    <tr>\n",
       "      <th>1364</th>\n",
       "      <td>2.65</td>\n",
       "      <td>3150.0</td>\n",
       "      <td>Super Built up area 3150(292.64 sq.m.)</td>\n",
       "    </tr>\n",
       "    <tr>\n",
       "      <th>3360</th>\n",
       "      <td>1.20</td>\n",
       "      <td>1760.0</td>\n",
       "      <td>Super Built up area 1760(163.51 sq.m.)Built Up area: 1186 sq.ft. (110.18 sq.m.)Carpet area: 1130 sq.ft. (104.98 sq.m.)</td>\n",
       "    </tr>\n",
       "    <tr>\n",
       "      <th>2509</th>\n",
       "      <td>0.48</td>\n",
       "      <td>1250.0</td>\n",
       "      <td>Super Built up area 1250(116.13 sq.m.)Carpet area: 770 sq.ft. (71.54 sq.m.)</td>\n",
       "    </tr>\n",
       "    <tr>\n",
       "      <th>1465</th>\n",
       "      <td>2.04</td>\n",
       "      <td>1450.0</td>\n",
       "      <td>Super Built up area 1852(172.06 sq.m.)Carpet area: 1450 sq.ft. (134.71 sq.m.)</td>\n",
       "    </tr>\n",
       "    <tr>\n",
       "      <th>2873</th>\n",
       "      <td>2.55</td>\n",
       "      <td>2150.0</td>\n",
       "      <td>Super Built up area 2150(199.74 sq.m.)Built Up area: 2000 sq.ft. (185.81 sq.m.)</td>\n",
       "    </tr>\n",
       "  </tbody>\n",
       "</table>\n",
       "</div>"
      ],
      "text/plain": [
       "      price    area  \\\n",
       "1364   2.65  3150.0   \n",
       "3360   1.20  1760.0   \n",
       "2509   0.48  1250.0   \n",
       "1465   2.04  1450.0   \n",
       "2873   2.55  2150.0   \n",
       "\n",
       "                                                                                                                areaWithType  \n",
       "1364                                                                                  Super Built up area 3150(292.64 sq.m.)  \n",
       "3360  Super Built up area 1760(163.51 sq.m.)Built Up area: 1186 sq.ft. (110.18 sq.m.)Carpet area: 1130 sq.ft. (104.98 sq.m.)  \n",
       "2509                                             Super Built up area 1250(116.13 sq.m.)Carpet area: 770 sq.ft. (71.54 sq.m.)  \n",
       "1465                                           Super Built up area 1852(172.06 sq.m.)Carpet area: 1450 sq.ft. (134.71 sq.m.)  \n",
       "2873                                         Super Built up area 2150(199.74 sq.m.)Built Up area: 2000 sq.ft. (185.81 sq.m.)  "
      ]
     },
     "execution_count": 20,
     "metadata": {},
     "output_type": "execute_result"
    }
   ],
   "source": [
    "df[['price', 'area','areaWithType']].sample(5)\n"
   ]
  },
  {
   "cell_type": "markdown",
   "metadata": {},
   "source": [
    "making three new columns with areaWithType--> CarpetArea, buitlupArea, SuperBuiltupArea"
   ]
  },
  {
   "cell_type": "code",
   "execution_count": 21,
   "metadata": {},
   "outputs": [],
   "source": [
    "#this function extracts  the Super Builtup area\n",
    "def get_super_built_up_area(text):\n",
    "    match = re.search(r'Super Built up area (\\d+\\.?\\d*)',text)\n",
    "    if match:\n",
    "        return float(match.group(1))\n",
    "    return None\n"
   ]
  },
  {
   "cell_type": "code",
   "execution_count": 22,
   "metadata": {},
   "outputs": [],
   "source": [
    "#this function extracts  the  Builtup area or Carpet area\n",
    "def get_area(text, area_type):\n",
    "    match = re.search(area_type + r'\\s*:\\s*(\\d+\\.?\\d*)',text)\n",
    "    if match:\n",
    "        return float(match.group(1))\n",
    "    return None"
   ]
  },
  {
   "cell_type": "code",
   "execution_count": 23,
   "metadata": {},
   "outputs": [],
   "source": [
    "# This function checks if the area is provided in sq.m. and converts it to sqft if needed\n",
    "def convert_to_sqft(text, area_value):\n",
    "    if area_value is None:\n",
    "        return None\n",
    "    match = re.search(r'{} \\((\\d+\\.?\\d*) sq.m.\\)'.format(area_value), text)\n",
    "    if match:\n",
    "        sq_m_value = float(match.group(1))\n",
    "        return sq_m_value * 10.7639  # conversion factor from sq.m. to sqft\n",
    "    return area_value"
   ]
  },
  {
   "cell_type": "code",
   "execution_count": 24,
   "metadata": {},
   "outputs": [],
   "source": [
    "# Extract Super Built up area and convert to sqft if needed\n",
    "df['super_built_up_area'] = df['areaWithType'].apply(get_super_built_up_area)\n",
    "df['super_built_up_area'] = df.apply(lambda x: convert_to_sqft(x['areaWithType'], x['super_built_up_area']), axis=1)\n",
    "\n",
    "# Extract Built Up area and convert to sqft if needed\n",
    "df['built_up_area'] = df['areaWithType'].apply(lambda x: get_area(x, 'Built Up area'))\n",
    "df['built_up_area'] = df.apply(lambda x: convert_to_sqft(x['areaWithType'], x['built_up_area']), axis=1)\n",
    "\n",
    "# Extract Carpet area and convert to sqft if needed\n",
    "df['carpet_area'] = df['areaWithType'].apply(lambda x: get_area(x, 'Carpet area'))\n",
    "df['carpet_area'] = df.apply(lambda x: convert_to_sqft(x['areaWithType'], x['carpet_area']), axis=1)\n",
    "\n"
   ]
  },
  {
   "cell_type": "code",
   "execution_count": 25,
   "metadata": {},
   "outputs": [
    {
     "data": {
      "text/html": [
       "<div>\n",
       "<style scoped>\n",
       "    .dataframe tbody tr th:only-of-type {\n",
       "        vertical-align: middle;\n",
       "    }\n",
       "\n",
       "    .dataframe tbody tr th {\n",
       "        vertical-align: top;\n",
       "    }\n",
       "\n",
       "    .dataframe thead th {\n",
       "        text-align: right;\n",
       "    }\n",
       "</style>\n",
       "<table border=\"1\" class=\"dataframe\">\n",
       "  <thead>\n",
       "    <tr style=\"text-align: right;\">\n",
       "      <th></th>\n",
       "      <th>price</th>\n",
       "      <th>property_type</th>\n",
       "      <th>area</th>\n",
       "      <th>areaWithType</th>\n",
       "      <th>super_built_up_area</th>\n",
       "      <th>built_up_area</th>\n",
       "      <th>carpet_area</th>\n",
       "    </tr>\n",
       "  </thead>\n",
       "  <tbody>\n",
       "    <tr>\n",
       "      <th>2821</th>\n",
       "      <td>1.15</td>\n",
       "      <td>flat</td>\n",
       "      <td>1660.0</td>\n",
       "      <td>Super Built up area 1660(154.22 sq.m.)Carpet area: 1282 sq.ft. (119.1 sq.m.)</td>\n",
       "      <td>1660.0</td>\n",
       "      <td>NaN</td>\n",
       "      <td>1282.0</td>\n",
       "    </tr>\n",
       "    <tr>\n",
       "      <th>3320</th>\n",
       "      <td>0.45</td>\n",
       "      <td>flat</td>\n",
       "      <td>598.0</td>\n",
       "      <td>Carpet area: 598 (55.56 sq.m.)</td>\n",
       "      <td>NaN</td>\n",
       "      <td>NaN</td>\n",
       "      <td>598.0</td>\n",
       "    </tr>\n",
       "    <tr>\n",
       "      <th>2675</th>\n",
       "      <td>1.90</td>\n",
       "      <td>flat</td>\n",
       "      <td>1975.0</td>\n",
       "      <td>Built Up area: 1975 (183.48 sq.m.)</td>\n",
       "      <td>NaN</td>\n",
       "      <td>1975.0</td>\n",
       "      <td>NaN</td>\n",
       "    </tr>\n",
       "    <tr>\n",
       "      <th>3561</th>\n",
       "      <td>0.99</td>\n",
       "      <td>flat</td>\n",
       "      <td>1205.0</td>\n",
       "      <td>Super Built up area 1205(111.95 sq.m.)Carpet area: 900 sq.ft. (83.61 sq.m.)</td>\n",
       "      <td>1205.0</td>\n",
       "      <td>NaN</td>\n",
       "      <td>900.0</td>\n",
       "    </tr>\n",
       "    <tr>\n",
       "      <th>1231</th>\n",
       "      <td>5.00</td>\n",
       "      <td>house</td>\n",
       "      <td>4000.0</td>\n",
       "      <td>Built Up area: 4000 (371.61 sq.m.)</td>\n",
       "      <td>NaN</td>\n",
       "      <td>4000.0</td>\n",
       "      <td>NaN</td>\n",
       "    </tr>\n",
       "  </tbody>\n",
       "</table>\n",
       "</div>"
      ],
      "text/plain": [
       "      price property_type    area  \\\n",
       "2821   1.15          flat  1660.0   \n",
       "3320   0.45          flat   598.0   \n",
       "2675   1.90          flat  1975.0   \n",
       "3561   0.99          flat  1205.0   \n",
       "1231   5.00         house  4000.0   \n",
       "\n",
       "                                                                      areaWithType  \\\n",
       "2821  Super Built up area 1660(154.22 sq.m.)Carpet area: 1282 sq.ft. (119.1 sq.m.)   \n",
       "3320                                                Carpet area: 598 (55.56 sq.m.)   \n",
       "2675                                            Built Up area: 1975 (183.48 sq.m.)   \n",
       "3561   Super Built up area 1205(111.95 sq.m.)Carpet area: 900 sq.ft. (83.61 sq.m.)   \n",
       "1231                                            Built Up area: 4000 (371.61 sq.m.)   \n",
       "\n",
       "      super_built_up_area  built_up_area  carpet_area  \n",
       "2821               1660.0            NaN       1282.0  \n",
       "3320                  NaN            NaN        598.0  \n",
       "2675                  NaN         1975.0          NaN  \n",
       "3561               1205.0            NaN        900.0  \n",
       "1231                  NaN         4000.0          NaN  "
      ]
     },
     "execution_count": 25,
     "metadata": {},
     "output_type": "execute_result"
    }
   ],
   "source": [
    "df[['price','property_type','area','areaWithType','super_built_up_area','built_up_area','carpet_area']].sample(5)\n"
   ]
  },
  {
   "cell_type": "code",
   "execution_count": 26,
   "metadata": {},
   "outputs": [
    {
     "data": {
      "text/plain": [
       "122"
      ]
     },
     "execution_count": 26,
     "metadata": {},
     "output_type": "execute_result"
    }
   ],
   "source": [
    "df.duplicated().sum()"
   ]
  },
  {
   "cell_type": "code",
   "execution_count": null,
   "metadata": {},
   "outputs": [],
   "source": []
  }
 ],
 "metadata": {
  "kernelspec": {
   "display_name": "Python 3",
   "language": "python",
   "name": "python3"
  },
  "language_info": {
   "codemirror_mode": {
    "name": "ipython",
    "version": 3
   },
   "file_extension": ".py",
   "mimetype": "text/x-python",
   "name": "python",
   "nbconvert_exporter": "python",
   "pygments_lexer": "ipython3",
   "version": "3.11.4"
  }
 },
 "nbformat": 4,
 "nbformat_minor": 2
}
