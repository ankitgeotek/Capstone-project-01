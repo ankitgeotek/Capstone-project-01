{
 "cells": [
  {
   "cell_type": "code",
   "execution_count": 1,
   "metadata": {},
   "outputs": [],
   "source": [
    "import numpy as np\n",
    "import pandas as pd"
   ]
  },
  {
   "cell_type": "code",
   "execution_count": 2,
   "metadata": {},
   "outputs": [],
   "source": [
    "df= pd.read_csv(r'A:\\Work Docs\\Data Analyst work\\Campus X\\10 Streamlit\\Capstone\\gurgoan_property.csv')"
   ]
  },
  {
   "cell_type": "code",
   "execution_count": 3,
   "metadata": {},
   "outputs": [
    {
     "data": {
      "text/html": [
       "<div>\n",
       "<style scoped>\n",
       "    .dataframe tbody tr th:only-of-type {\n",
       "        vertical-align: middle;\n",
       "    }\n",
       "\n",
       "    .dataframe tbody tr th {\n",
       "        vertical-align: top;\n",
       "    }\n",
       "\n",
       "    .dataframe thead th {\n",
       "        text-align: right;\n",
       "    }\n",
       "</style>\n",
       "<table border=\"1\" class=\"dataframe\">\n",
       "  <thead>\n",
       "    <tr style=\"text-align: right;\">\n",
       "      <th></th>\n",
       "      <th>property_name</th>\n",
       "      <th>property_type</th>\n",
       "      <th>society</th>\n",
       "      <th>price</th>\n",
       "      <th>price_per_sqft</th>\n",
       "      <th>area</th>\n",
       "      <th>areaWithType</th>\n",
       "      <th>bedRoom</th>\n",
       "      <th>bathroom</th>\n",
       "      <th>balcony</th>\n",
       "      <th>additionalRoom</th>\n",
       "      <th>address</th>\n",
       "      <th>floorNum</th>\n",
       "      <th>facing</th>\n",
       "      <th>agePossession</th>\n",
       "      <th>nearbyLocations</th>\n",
       "      <th>description</th>\n",
       "      <th>furnishDetails</th>\n",
       "      <th>features</th>\n",
       "      <th>rating</th>\n",
       "    </tr>\n",
       "  </thead>\n",
       "  <tbody>\n",
       "    <tr>\n",
       "      <th>3712</th>\n",
       "      <td>4 Bedroom House for sale in Malibu Town</td>\n",
       "      <td>house</td>\n",
       "      <td>independent</td>\n",
       "      <td>0.99</td>\n",
       "      <td>17187.0</td>\n",
       "      <td>576.0</td>\n",
       "      <td>Plot area 64(53.51 sq.m.)</td>\n",
       "      <td>4</td>\n",
       "      <td>4</td>\n",
       "      <td>3</td>\n",
       "      <td>not available</td>\n",
       "      <td>Malibu Town, Gurgaon, Haryana</td>\n",
       "      <td>4.0</td>\n",
       "      <td>NaN</td>\n",
       "      <td>1 to 5 Year Old</td>\n",
       "      <td>['Standard chartered ATM', 'Icici bank ATM', '...</td>\n",
       "      <td>Malibue towen in sector 47, 60 sq yard indepen...</td>\n",
       "      <td>[]</td>\n",
       "      <td>['Maintenance Staff', 'Rain Water Harvesting']</td>\n",
       "      <td>['Environment5 out of 5', 'Lifestyle4 out of 5...</td>\n",
       "    </tr>\n",
       "  </tbody>\n",
       "</table>\n",
       "</div>"
      ],
      "text/plain": [
       "                                property_name property_type      society  \\\n",
       "3712  4 Bedroom House for sale in Malibu Town         house  independent   \n",
       "\n",
       "      price  price_per_sqft   area               areaWithType  bedRoom  \\\n",
       "3712   0.99         17187.0  576.0  Plot area 64(53.51 sq.m.)        4   \n",
       "\n",
       "      bathroom balcony additionalRoom                        address  \\\n",
       "3712         4       3  not available  Malibu Town, Gurgaon, Haryana   \n",
       "\n",
       "      floorNum facing    agePossession  \\\n",
       "3712       4.0    NaN  1 to 5 Year Old   \n",
       "\n",
       "                                        nearbyLocations  \\\n",
       "3712  ['Standard chartered ATM', 'Icici bank ATM', '...   \n",
       "\n",
       "                                            description furnishDetails  \\\n",
       "3712  Malibue towen in sector 47, 60 sq yard indepen...             []   \n",
       "\n",
       "                                            features  \\\n",
       "3712  ['Maintenance Staff', 'Rain Water Harvesting']   \n",
       "\n",
       "                                                 rating  \n",
       "3712  ['Environment5 out of 5', 'Lifestyle4 out of 5...  "
      ]
     },
     "execution_count": 3,
     "metadata": {},
     "output_type": "execute_result"
    }
   ],
   "source": [
    "df.sample()"
   ]
  },
  {
   "cell_type": "code",
   "execution_count": 9,
   "metadata": {},
   "outputs": [
    {
     "data": {
      "text/plain": [
       "'Sector 88B'"
      ]
     },
     "execution_count": 9,
     "metadata": {},
     "output_type": "execute_result"
    }
   ],
   "source": [
    "# Extracting sector form property name\n",
    "df['property_name'].str.split('in').str.get(1).str.replace('Gurgaon', '').str.strip()[8]"
   ]
  },
  {
   "cell_type": "code",
   "execution_count": 10,
   "metadata": {},
   "outputs": [],
   "source": [
    "df.insert(loc=3,column='sector',value=df['property_name'].str.split('in').str.get(1).str.replace('Gurgaon', '').str.strip())"
   ]
  },
  {
   "cell_type": "code",
   "execution_count": 14,
   "metadata": {},
   "outputs": [
    {
     "data": {
      "text/html": [
       "<div>\n",
       "<style scoped>\n",
       "    .dataframe tbody tr th:only-of-type {\n",
       "        vertical-align: middle;\n",
       "    }\n",
       "\n",
       "    .dataframe tbody tr th {\n",
       "        vertical-align: top;\n",
       "    }\n",
       "\n",
       "    .dataframe thead th {\n",
       "        text-align: right;\n",
       "    }\n",
       "</style>\n",
       "<table border=\"1\" class=\"dataframe\">\n",
       "  <thead>\n",
       "    <tr style=\"text-align: right;\">\n",
       "      <th></th>\n",
       "      <th>property_name</th>\n",
       "      <th>property_type</th>\n",
       "      <th>society</th>\n",
       "      <th>sector</th>\n",
       "      <th>price</th>\n",
       "      <th>price_per_sqft</th>\n",
       "      <th>area</th>\n",
       "      <th>areaWithType</th>\n",
       "      <th>bedRoom</th>\n",
       "      <th>bathroom</th>\n",
       "      <th>...</th>\n",
       "      <th>additionalRoom</th>\n",
       "      <th>address</th>\n",
       "      <th>floorNum</th>\n",
       "      <th>facing</th>\n",
       "      <th>agePossession</th>\n",
       "      <th>nearbyLocations</th>\n",
       "      <th>description</th>\n",
       "      <th>furnishDetails</th>\n",
       "      <th>features</th>\n",
       "      <th>rating</th>\n",
       "    </tr>\n",
       "  </thead>\n",
       "  <tbody>\n",
       "    <tr>\n",
       "      <th>2206</th>\n",
       "      <td>3 BHK Flat in ats marigold</td>\n",
       "      <td>flat</td>\n",
       "      <td>ats marigold</td>\n",
       "      <td>ats marigold</td>\n",
       "      <td>1.6</td>\n",
       "      <td>9142.0</td>\n",
       "      <td>1750.0</td>\n",
       "      <td>Super Built up area 1750(162.58 sq.m.)</td>\n",
       "      <td>3</td>\n",
       "      <td>3</td>\n",
       "      <td>...</td>\n",
       "      <td>not available</td>\n",
       "      <td>ats marigold, Gurgaon, Haryana</td>\n",
       "      <td>4.0</td>\n",
       "      <td>NaN</td>\n",
       "      <td>0 to 1 Year Old</td>\n",
       "      <td>['Reliance Trends Newtown Square Mall', 'Dwark...</td>\n",
       "      <td>Premium lifestyle society with 3 rooms and 3 b...</td>\n",
       "      <td>[]</td>\n",
       "      <td>['Private Garden / Terrace', 'Swimming Pool', ...</td>\n",
       "      <td>NaN</td>\n",
       "    </tr>\n",
       "  </tbody>\n",
       "</table>\n",
       "<p>1 rows × 21 columns</p>\n",
       "</div>"
      ],
      "text/plain": [
       "                   property_name property_type       society        sector  \\\n",
       "2206  3 BHK Flat in ats marigold          flat  ats marigold  ats marigold   \n",
       "\n",
       "      price  price_per_sqft    area                            areaWithType  \\\n",
       "2206    1.6          9142.0  1750.0  Super Built up area 1750(162.58 sq.m.)   \n",
       "\n",
       "      bedRoom  bathroom  ... additionalRoom                         address  \\\n",
       "2206        3         3  ...  not available  ats marigold, Gurgaon, Haryana   \n",
       "\n",
       "     floorNum  facing    agePossession  \\\n",
       "2206      4.0     NaN  0 to 1 Year Old   \n",
       "\n",
       "                                        nearbyLocations  \\\n",
       "2206  ['Reliance Trends Newtown Square Mall', 'Dwark...   \n",
       "\n",
       "                                            description furnishDetails  \\\n",
       "2206  Premium lifestyle society with 3 rooms and 3 b...             []   \n",
       "\n",
       "                                               features rating  \n",
       "2206  ['Private Garden / Terrace', 'Swimming Pool', ...    NaN  \n",
       "\n",
       "[1 rows x 21 columns]"
      ]
     },
     "execution_count": 14,
     "metadata": {},
     "output_type": "execute_result"
    }
   ],
   "source": [
    "df.sample()"
   ]
  },
  {
   "cell_type": "code",
   "execution_count": null,
   "metadata": {},
   "outputs": [],
   "source": []
  }
 ],
 "metadata": {
  "kernelspec": {
   "display_name": "Python 3",
   "language": "python",
   "name": "python3"
  },
  "language_info": {
   "codemirror_mode": {
    "name": "ipython",
    "version": 3
   },
   "file_extension": ".py",
   "mimetype": "text/x-python",
   "name": "python",
   "nbconvert_exporter": "python",
   "pygments_lexer": "ipython3",
   "version": "3.11.4"
  }
 },
 "nbformat": 4,
 "nbformat_minor": 2
}
